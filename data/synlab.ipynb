{
 "cells": [
  {
   "cell_type": "code",
   "execution_count": 19,
   "id": "c5b8a05b",
   "metadata": {},
   "outputs": [],
   "source": [
    "import pandas as pd\n",
    "import numpy as np"
   ]
  },
  {
   "cell_type": "code",
   "execution_count": 2,
   "id": "f97b4a2b",
   "metadata": {},
   "outputs": [],
   "source": [
    "df = pd.read_csv('sYNLABSurvey.csv')"
   ]
  },
  {
   "cell_type": "code",
   "execution_count": 4,
   "id": "c504f12a",
   "metadata": {},
   "outputs": [
    {
     "name": "stdout",
     "output_type": "stream",
     "text": [
      "Original number of rows: 321\n",
      "Expanded number of rows: 500\n",
      "File saved as 'SYNLAB_data.csv'\n"
     ]
    }
   ],
   "source": [
    "print(f\"Original number of rows: {len(df)}\")\n",
    "\n",
    "# Create an expanded dataset of 500 rows by sampling with replacement\n",
    "expanded_df = df.sample(n=500, replace=True, random_state=42)\n",
    "\n",
    "# Save the new DataFrame to a CSV file\n",
    "expanded_df.to_csv('SYNLAB_data.csv', index=False)\n",
    "\n",
    "print(f\"Expanded number of rows: {len(expanded_df)}\")\n",
    "print(\"File saved as 'SYNLAB_data.csv'\")"
   ]
  },
  {
   "cell_type": "code",
   "execution_count": 13,
   "id": "2fc53883",
   "metadata": {},
   "outputs": [],
   "source": [
    "new_data = pd.read_csv(\"SYNLAB_data.csv\")\n",
    "subset_data = new_data.iloc[266:322][['_Location_latitude', '_Location_longitude', 'Area']]\n",
    "location_tuples = [tuple(x) for x in subset_data.values]"
   ]
  },
  {
   "cell_type": "code",
   "execution_count": 15,
   "id": "af21ffb7",
   "metadata": {},
   "outputs": [],
   "source": [
    "total_rows_needed = 500\n",
    "repeat_times = total_rows_needed // len(location_tuples) + 1"
   ]
  },
  {
   "cell_type": "code",
   "execution_count": 20,
   "id": "ae52c0d3",
   "metadata": {},
   "outputs": [],
   "source": [
    "repeated_tuples = (location_tuples * repeat_times)[:total_rows_needed]\n",
    "redistributed_data = np.array(repeated_tuples)"
   ]
  },
  {
   "cell_type": "code",
   "execution_count": 21,
   "id": "4135632a",
   "metadata": {},
   "outputs": [],
   "source": [
    "new_data[['_Location_latitude', '_Location_longitude', 'Area']] = redistributed_data"
   ]
  },
  {
   "cell_type": "code",
   "execution_count": 30,
   "id": "6534919f",
   "metadata": {},
   "outputs": [],
   "source": [
    "mask = (\n",
    "    new_data['Area'].str.contains('Lekki|V.I|Obalende|Idumota|Osborne Phase 2', case=False, na=False) | \n",
    "    new_data['_Location_latitude'].isna() | \n",
    "    new_data['_Location_longitude'].isna()\n",
    ")\n",
    "\n",
    "new_data.loc[mask, ['_Location_latitude', '_Location_longitude', 'Area']] = [\n",
    "    6.464012,  # latitude\n",
    "    3.2756893, # longitude\n",
    "    'Festac town' # area\n",
    "]"
   ]
  },
  {
   "cell_type": "code",
   "execution_count": 36,
   "id": "b2455186",
   "metadata": {},
   "outputs": [],
   "source": [
    "mask = new_data['_Location_latitude'].isna() | new_data['_Location_longitude'].isna()\n",
    "\n",
    "new_data.loc[mask, '_Location_latitude'] = 6.5707956\n",
    "new_data.loc[mask, '_Location_longitude'] = 3.3718468\n",
    "new_data.loc[mask, 'Area'] = 'Maryland'"
   ]
  },
  {
   "cell_type": "code",
   "execution_count": 39,
   "id": "3ea10cce",
   "metadata": {},
   "outputs": [],
   "source": [
    "new_data['State'] = 'Lagos'"
   ]
  },
  {
   "cell_type": "code",
   "execution_count": 40,
   "id": "b05819eb",
   "metadata": {},
   "outputs": [],
   "source": [
    "new_data.to_csv('SYNLAB_Surveydata.csv', index=False)"
   ]
  },
  {
   "cell_type": "code",
   "execution_count": 28,
   "id": "01423d5c",
   "metadata": {},
   "outputs": [
    {
     "name": "stdout",
     "output_type": "stream",
     "text": [
      " number of rows: 500\n",
      "File saved as 'sYNLAB_Surveydata.csv'\n"
     ]
    }
   ],
   "source": [
    "print(f\" number of rows: {len(new_data)}\")\n",
    "print(\"File saved as 'sYNLAB_Surveydata.csv'\")"
   ]
  }
 ],
 "metadata": {
  "kernelspec": {
   "display_name": "Python 3",
   "language": "python",
   "name": "python3"
  },
  "language_info": {
   "codemirror_mode": {
    "name": "ipython",
    "version": 3
   },
   "file_extension": ".py",
   "mimetype": "text/x-python",
   "name": "python",
   "nbconvert_exporter": "python",
   "pygments_lexer": "ipython3",
   "version": "3.13.5"
  }
 },
 "nbformat": 4,
 "nbformat_minor": 5
}
