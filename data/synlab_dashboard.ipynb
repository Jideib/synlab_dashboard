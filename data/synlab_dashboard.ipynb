{
 "cells": [
  {
   "cell_type": "code",
   "execution_count": 1,
   "id": "e1860059",
   "metadata": {},
   "outputs": [],
   "source": [
    "import pandas as pd\n",
    "import numpy as np\n"
   ]
  },
  {
   "cell_type": "code",
   "execution_count": 2,
   "id": "e7232331",
   "metadata": {},
   "outputs": [],
   "source": [
    "survey = pd.read_csv(\"SYNLAB_Surveydata.csv\")"
   ]
  },
  {
   "cell_type": "code",
   "execution_count": 3,
   "id": "3f124a82",
   "metadata": {},
   "outputs": [],
   "source": [
    "survey.drop(columns=['Location', 'Which_of_the_followi_Check_all_that_apply/afriglobal'], inplace=True)\n"
   ]
  },
  {
   "cell_type": "code",
   "execution_count": 4,
   "id": "de3e3f5f",
   "metadata": {},
   "outputs": [],
   "source": [
    "survey['Age'] = survey['Age'].str.replace('_', '-', regex=False)\n",
    "survey['How_familiar_are_you_with_SYNLAB_Nigeria'] = survey['How_familiar_are_you_with_SYNLAB_Nigeria'].str.replace('_', ' ')"
   ]
  },
  {
   "cell_type": "code",
   "execution_count": 5,
   "id": "b46e3812",
   "metadata": {},
   "outputs": [],
   "source": [
    "survey['Which_Medical_Labora_o_you_prefer_and_why'] = survey['Which_Medical_Labora_o_you_prefer_and_why'].str.strip().str.title()\n"
   ]
  },
  {
   "cell_type": "code",
   "execution_count": 6,
   "id": "db65d6e5",
   "metadata": {},
   "outputs": [],
   "source": [
    "lab_columns = [col for col in survey.columns if 'synlab_nigeria' in col or 'clinix' in col or 'mecure' in col or 'clina_lancet' in col or 'afirglobal' in col]\n",
    "for col in lab_columns:\n",
    "    survey[col] = survey[col].fillna(0).astype(bool)"
   ]
  },
  {
   "cell_type": "code",
   "execution_count": 7,
   "id": "2a7c46cc",
   "metadata": {},
   "outputs": [],
   "source": [
    "survey['On_a_scale_of_1_5_h_on_of_SYNLAB_Nigeria'] = survey['On_a_scale_of_1_5_h_on_of_SYNLAB_Nigeria'].str.split('__').str[0].astype(float)"
   ]
  },
  {
   "cell_type": "code",
   "execution_count": 8,
   "id": "6293808d",
   "metadata": {},
   "outputs": [],
   "source": [
    "# Example for one column\n",
    "labs = ['synlab_nigeria', 'clinix', 'mecure', 'clina_lancet', 'afirglobal']\n",
    "for lab in labs:\n",
    "    survey[f'Heard_of_{lab}'] = survey['Which_of_the_followi_Check_all_that_apply'].str.contains(lab, na=False)"
   ]
  },
  {
   "cell_type": "code",
   "execution_count": 9,
   "id": "9ca7ca53",
   "metadata": {},
   "outputs": [],
   "source": [
    "text_cols = ['Can_you_name_any_other_Medical', 'Do_you_have_any_othe_s_for_SYNLAB_Nigeria', 'Can_you_name_any_oth_aboratory_in_Nigeria']\n",
    "for col in text_cols:\n",
    "    survey[col] = survey[col].str.strip().str.title().replace('', np.nan)"
   ]
  },
  {
   "cell_type": "code",
   "execution_count": 10,
   "id": "80141b82",
   "metadata": {},
   "outputs": [],
   "source": [
    "# Example: If it's a binary flag but stored as float\n",
    "others_cols = [col for col in survey.columns if 'others__please_specify' in col]\n",
    "for col in others_cols:\n",
    "    if survey[col].dtype == 'float64':\n",
    "        survey[col] = survey[col].fillna(0).astype(bool)"
   ]
  },
  {
   "cell_type": "code",
   "execution_count": 11,
   "id": "70e76def",
   "metadata": {},
   "outputs": [],
   "source": [
    "likelihood_map = {\n",
    "    'very_unlikely': 1,\n",
    "    'unlikely': 2,\n",
    "    'neutral': 3,\n",
    "    'likely': 4,\n",
    "    'very_likely': 5\n",
    "}\n",
    "survey['How_likely_are_you_t_end_or_family_member'] = survey['How_likely_are_you_t_end_or_family_member'].map(likelihood_map)"
   ]
  },
  {
   "cell_type": "code",
   "execution_count": 12,
   "id": "43ffb022",
   "metadata": {},
   "outputs": [],
   "source": [
    "occupation_map = {\n",
    "    'self_employed': 'Self-Employed',\n",
    "    'corporate_professional': 'Corporate Professional',\n",
    "    'healthcare_professional': 'Healthcare Professional',\n",
    "    'student': 'Student',\n",
    "    'other': 'Other'\n",
    "}\n",
    "survey['Occupation'] = survey['Occupation'].map(occupation_map).fillna(survey['Occupation'])"
   ]
  },
  {
   "cell_type": "code",
   "execution_count": 13,
   "id": "26e71abf",
   "metadata": {},
   "outputs": [],
   "source": [
    "survey = survey.dropna(axis=1, how='all')  # Drop completely empty columns"
   ]
  },
  {
   "cell_type": "code",
   "execution_count": 14,
   "id": "3d2b1dfc",
   "metadata": {},
   "outputs": [
    {
     "name": "stdout",
     "output_type": "stream",
     "text": [
      "<class 'pandas.core.frame.DataFrame'>\n"
     ]
    }
   ],
   "source": [
    "print(type(survey)) "
   ]
  },
  {
   "cell_type": "code",
   "execution_count": 15,
   "id": "db7ccd5b",
   "metadata": {},
   "outputs": [],
   "source": [
    "survey = survey.rename(columns={\n",
    "    'What_do_you_believe_hs_of_SYNLAB_Nigeria': 'Beliefs_about_SYNLAB',\n",
    "    'How_likely_are_you_t_end_or_family_member': 'Likelihood_to_Recommend',\n",
    "    'Which_Medical_Labora_o_you_prefer_and_why': 'Preferred_Lab_Reason',\n",
    "    '_Location_latitude': 'Latitude',\n",
    "    '_Location_longitude': 'Longitude',\n",
    "    'Age': 'Age_Group',\n",
    "    'How_familiar_are_you_with_SYNLAB_Nigeria': 'Familiarity_with_SYNLAB',\n",
    "    'How_did_you_first_he_about_SYNLAB_Nigeria': 'First_Heard_About_SYNLAB',\n",
    "    'Can_you_name_any_other_Medical': 'Other_Labs_Named',\n",
    "    # Lab awareness (multi-response)\n",
    "    'Which_of_the_followi_Check_all_that_apply': 'Labs_Heard_Of',\n",
    "    'Which_of_the_followi_Check_all_that_apply/synlab_nigeria': 'Heard_SYNLAB',\n",
    "    'Which_of_the_followi_Check_all_that_apply/clinix': 'Heard_Clinix',\n",
    "    'Which_of_the_followi_Check_all_that_apply/mecure': 'Heard_Mecure', \n",
    "    'Which_of_the_followi_Check_all_that_apply/clina_lancet': 'Heard_Clina_Lancet',\n",
    "    'Which_of_the_followi_Check_all_that_apply/afirglobal': 'Heard_Afriglobal',\n",
    "    'Which_of_the_followi_Check_all_that_apply/others__please_specify': 'Heard_Others',\n",
    "    \n",
    "    # Ratings and perceptions\n",
    "    'On_a_scale_of_1_5_h_on_of_SYNLAB_Nigeria': 'SYNLAB_Rating_1_5',\n",
    "    'How_likely_are_you_t_end_or_family_member': 'Likelihood_to_Recommend',\n",
    "    \n",
    "    # Beliefs about SYNLAB (multi-response)\n",
    "    'What_do_you_believe_hs_of_SYNLAB_Nigeria': 'Beliefs_About_SYNLAB',\n",
    "    'What_do_you_believe_hs_of_SYNLAB_Nigeria/reliable_result': 'Belief_Reliable_Results',\n",
    "    'What_do_you_believe_hs_of_SYNLAB_Nigeria/global_spread': 'Belief_Global_Spread',\n",
    "    'What_do_you_believe_hs_of_SYNLAB_Nigeria/national_spread': 'Belief_National_Spread',\n",
    "    'What_do_you_believe_hs_of_SYNLAB_Nigeria/quality_service': 'Belief_Quality_Service',\n",
    "    'What_do_you_believe_hs_of_SYNLAB_Nigeria/big_customer_base': 'Belief_Big_Customer_Base',\n",
    "    'What_do_you_believe_hs_of_SYNLAB_Nigeria/convenience_of_access': 'Belief_Convenience_Access',\n",
    "    'What_do_you_believe_hs_of_SYNLAB_Nigeria/technology': 'Belief_Technology',\n",
    "    'What_do_you_believe_hs_of_SYNLAB_Nigeria/professionalism': 'Belief_Professionalism',\n",
    "    'What_do_you_believe_hs_of_SYNLAB_Nigeria/others__please_specify': 'Belief_Others',\n",
    "    \n",
    "    # Improvement suggestions (multi-response)\n",
    "    'What_improvements_or_hoose_all_that_apply': 'Improvement_Suggestions',\n",
    "    'What_improvements_or_hoose_all_that_apply/access_to_facility': 'Improve_Access_Facility',\n",
    "    'What_improvements_or_hoose_all_that_apply/relationship_with_hmos': 'Improve_HMO_Relationships',\n",
    "    'What_improvements_or_hoose_all_that_apply/speed_of_result_delivery': 'Improve_Result_Speed',\n",
    "    'What_improvements_or_hoose_all_that_apply/publicity': 'Improve_Publicity',\n",
    "    'What_improvements_or_hoose_all_that_apply/customer_support': 'Improve_Customer_Support',\n",
    "    'What_improvements_or_hoose_all_that_apply/convenience': 'Improve_Convenience',\n",
    "    'What_improvements_or_hoose_all_that_apply/technology': 'Improve_Technology',\n",
    "    'What_improvements_or_hoose_all_that_apply/others__please_specify': 'Improve_Others',\n",
    "    'What_improvements_or_hoose_all_that_apply/none_for_now': 'Improve_None',\n",
    "    \n",
    "    # Lab preferences and perceptions\n",
    "    'Which_Medical_Labora_o_you_prefer_and_why': 'Preferred_Lab_Reason',\n",
    "    \n",
    "    # Perceptions of Afriglobal vs Clinix\n",
    "    'How_do_you_perceive_riglobal_and_Clinix': 'Perception_against_other_labs',\n",
    "    'How_do_you_perceive_riglobal_and_Clinix/easily_accessible': 'Perception_Easily_Accessible',\n",
    "    'How_do_you_perceive_riglobal_and_Clinix/more_difficult_to_access': 'Perception_Difficult_Access',\n",
    "    'How_do_you_perceive_riglobal_and_Clinix/more_expensive': 'Perception_More_Expensive',\n",
    "    'How_do_you_perceive_riglobal_and_Clinix/less_expensive': 'Perception_Less_Expensive',\n",
    "    'How_do_you_perceive_riglobal_and_Clinix/higher_quality_service': 'Perception_Higher_Quality',\n",
    "    'How_do_you_perceive_riglobal_and_Clinix/lower_quality_service': 'Perception_Lower_Quality',\n",
    "    'How_do_you_perceive_riglobal_and_Clinix/more_reliable_result': 'Perception_More_Reliable',\n",
    "    'How_do_you_perceive_riglobal_and_Clinix/less_reliable_result': 'Perception_Less_Reliable',\n",
    "    'How_do_you_perceive_riglobal_and_Clinix/faster_turnaround_time': 'Perception_Faster_Turnaround',\n",
    "    'How_do_you_perceive_riglobal_and_Clinix/slower_turnaround_time': 'Perception_Slower_Turnaround',\n",
    "    'How_do_you_perceive_riglobal_and_Clinix/all_of_them_are_the_same': 'Perception_All_Same',\n",
    "    'How_do_you_perceive_riglobal_and_Clinix/others__please_specify': 'Perception_Others',\n",
    "    \n",
    "    # Lab usage (multi-response)\n",
    "    'Have_you_ever_used_s_Check_all_that_apply': 'Labs_Used',\n",
    "    'Have_you_ever_used_s_Check_all_that_apply/synlab_nigeria': 'Used_SYNLAB',\n",
    "    'Have_you_ever_used_s_Check_all_that_apply/mecure': 'Used_Mecure',\n",
    "    'Have_you_ever_used_s_Check_all_that_apply/clinix': 'Used_Clinix',\n",
    "    'Have_you_ever_used_s_Check_all_that_apply/clina_lancet': 'Used_Clina_Lancet',\n",
    "    'Have_you_ever_used_s_Check_all_that_apply/afirglobal': 'Used_Afriglobal',\n",
    "    \n",
    "    # Contact and feedback\n",
    "    'Can_you_help_Synlab_g_your_email_address': 'Email_Address',\n",
    "    'Do_you_have_any_othe_s_for_SYNLAB_Nigeria': 'Additional_Suggestions',\n",
    "    'Can_you_name_any_oth_aboratory_in_Nigeria': 'Other_Labs_Mentioned'\n",
    "})"
   ]
  },
  {
   "cell_type": "code",
   "execution_count": 17,
   "id": "f6e24d04",
   "metadata": {},
   "outputs": [
    {
     "name": "stdout",
     "output_type": "stream",
     "text": [
      "Missing values per column:\n",
      "Other_Labs_Named           449\n",
      "Additional_Suggestions     440\n",
      "Email_Address              417\n",
      "Other_Labs_Mentioned       145\n",
      "Preferred_Lab_Reason       137\n",
      "                          ... \n",
      "Heard_of_synlab_nigeria      0\n",
      "Heard_of_clinix              0\n",
      "Heard_of_mecure              0\n",
      "Heard_of_clina_lancet        0\n",
      "Heard_of_afirglobal          0\n",
      "Length: 67, dtype: int64\n"
     ]
    }
   ],
   "source": [
    "print(\"Missing values per column:\")\n",
    "print(survey.isnull().sum().sort_values(ascending=False))"
   ]
  },
  {
   "cell_type": "code",
   "execution_count": 19,
   "id": "59e0ff1b",
   "metadata": {},
   "outputs": [],
   "source": [
    "survey['Other_Labs_Named'] = survey['Other_Labs_Named'].fillna('None')\n",
    "survey['Additional_Suggestions'] = survey['Additional_Suggestions'].fillna('No suggestions')\n",
    "survey['Other_Labs_Mentioned'] = survey['Other_Labs_Mentioned'].fillna('None mentioned')\n",
    "\n",
    "# For categorical columns, use 'Not Specified'\n",
    "categorical_cols = ['First_Heard_About_SYNLAB', 'Preferred_Lab_Reason']\n",
    "for col in categorical_cols:\n",
    "    survey[col] = survey[col].fillna('Not Specified')"
   ]
  },
  {
   "cell_type": "code",
   "execution_count": 21,
   "id": "b3089841",
   "metadata": {},
   "outputs": [],
   "source": [
    "text_columns = ['Other_Labs_Named', 'Additional_Suggestions', 'Other_Labs_Mentioned', 'Preferred_Lab_Reason']\n",
    "\n",
    "for col in text_columns:\n",
    "    survey[col] = (survey[col]\n",
    "                 .str.strip()\n",
    "                 .str.title()\n",
    "                 .replace(['', 'Nan', 'None', 'Nil', 'N/A'], 'Not Specified')\n",
    "                 .fillna('Not Specified'))"
   ]
  },
  {
   "cell_type": "code",
   "execution_count": 22,
   "id": "ebbd2288",
   "metadata": {},
   "outputs": [],
   "source": [
    "# Convert binary columns to boolean (they appear as 0/1.0/1)\n",
    "binary_columns = [col for col in survey.columns if any(x in col for x in ['Heard_', 'Used_', 'Belief_', 'Improve_', 'Perception_'])]\n",
    "for col in binary_columns:\n",
    "    survey[col] = survey[col].fillna(0).astype(bool)\n",
    "\n",
    "# Ensure rating columns are numeric\n",
    "survey['SYNLAB_Rating_1_5'] = pd.to_numeric(survey['SYNLAB_Rating_1_5'], errors='coerce')"
   ]
  },
  {
   "cell_type": "code",
   "execution_count": 24,
   "id": "65fb42ac",
   "metadata": {},
   "outputs": [],
   "source": [
    "# Standardize gender values\n",
    "gender_mapping = {\n",
    "    'male': 'Male', 'female': 'Female', 'not_disclosed': 'Not Disclosed',\n",
    "    'm': 'Male', 'f': 'Female'\n",
    "}\n",
    "survey['Gender'] = survey['Gender'].map(gender_mapping).fillna(survey['Gender'])\n",
    "\n",
    "# Standardize familiarity levels\n",
    "familiarity_map = {\n",
    "    'not familiar': 'Not Familiar',\n",
    "    'somewhat familiar': 'Somewhat Familiar', \n",
    "    'very familiar': 'Very Familiar'\n",
    "}\n",
    "survey['Familiarity_with_SYNLAB'] = survey['Familiarity_with_SYNLAB'].map(familiarity_map).fillna(survey['Familiarity_with_SYNLAB'])"
   ]
  },
  {
   "cell_type": "code",
   "execution_count": 25,
   "id": "19775ee4",
   "metadata": {},
   "outputs": [
    {
     "name": "stdout",
     "output_type": "stream",
     "text": [
      "Keeping 375/500 rows with valid Nigeria coordinates\n"
     ]
    }
   ],
   "source": [
    "# Convert coordinates to numeric, handle invalid values\n",
    "survey['Latitude'] = pd.to_numeric(survey['Latitude'], errors='coerce')\n",
    "survey['Longitude'] = pd.to_numeric(survey['Longitude'], errors='coerce')\n",
    "\n",
    "# Remove obviously invalid coordinates (outside Nigeria bounds)\n",
    "nigeria_bounds = {\n",
    "    'lat_min': 4.0, 'lat_max': 14.0,\n",
    "    'lon_min': 2.0, 'lon_max': 15.0\n",
    "}\n",
    "\n",
    "mask = (\n",
    "    survey['Latitude'].between(nigeria_bounds['lat_min'], nigeria_bounds['lat_max']) & \n",
    "    survey['Longitude'].between(nigeria_bounds['lon_min'], nigeria_bounds['lon_max'])\n",
    ")\n",
    "print(f\"Keeping {mask.sum()}/{len(survey)} rows with valid Nigeria coordinates\")\n",
    "survey = survey[mask].copy()"
   ]
  },
  {
   "cell_type": "code",
   "execution_count": 26,
   "id": "65b2febf",
   "metadata": {},
   "outputs": [],
   "source": [
    "# Create summary metrics\n",
    "survey['Total_Labs_Heard_Of'] = survey[[col for col in survey.columns if 'Heard_' in col and col != 'Heard_Others']].sum(axis=1)\n",
    "survey['Total_Labs_Used'] = survey[[col for col in survey.columns if 'Used_' in col]].sum(axis=1)\n",
    "survey['Total_Beliefs'] = survey[[col for col in survey.columns if 'Belief_' in col and col != 'Belief_Others']].sum(axis=1)\n",
    "\n",
    "# Create familiarity score (numeric)\n",
    "familiarity_score = {\n",
    "    'Not Familiar': 1,\n",
    "    'Somewhat Familiar': 2, \n",
    "    'Very Familiar': 3\n",
    "}\n",
    "survey['Familiarity_Score'] = survey['Familiarity_with_SYNLAB'].map(familiarity_score)\n",
    "\n",
    "# Create recommendation likelihood score\n",
    "likelihood_score = {\n",
    "    'very_unlikely': 1, 'unlikely': 2, 'neutral': 3, 'likely': 4, 'very_likely': 5\n",
    "}\n",
    "survey['Recommendation_Score'] = survey['Likelihood_to_Recommend'].map(likelihood_score)"
   ]
  },
  {
   "cell_type": "code",
   "execution_count": 28,
   "id": "cf7042eb",
   "metadata": {},
   "outputs": [
    {
     "name": "stdout",
     "output_type": "stream",
     "text": [
      "=== FINAL DATA QUALITY CHECK ===\n",
      "Dataset shape: (375, 72)\n",
      "Missing values: 701\n",
      "Duplicate rows: 8\n",
      "\n",
      "Data types:\n",
      "bool       49\n",
      "object     14\n",
      "int64       5\n",
      "float64     4\n",
      "Name: count, dtype: int64\n",
      "\n",
      "Sample of cleaned data:\n",
      "  Age_Group  Gender Familiarity_with_SYNLAB  SYNLAB_Rating_1_5\n",
      "0     35-44    Male            Not Familiar                3.0\n",
      "1     25-34  Female           Very Familiar                5.0\n",
      "4        55  Female           Very Familiar                5.0\n",
      "7     25-34    Male            Not Familiar                3.0\n",
      "9     18-24    Male       Somewhat Familiar                4.0\n"
     ]
    }
   ],
   "source": [
    "print(\"=== FINAL DATA QUALITY CHECK ===\")\n",
    "print(f\"Dataset shape: {survey.shape}\")\n",
    "print(f\"Missing values: {survey.isnull().sum().sum()}\")\n",
    "print(f\"Duplicate rows: {survey.duplicated().sum()}\")\n",
    "\n",
    "# Check data types\n",
    "print(\"\\nData types:\")\n",
    "print(survey.dtypes.value_counts())\n",
    "\n",
    "# Sample of cleaned data\n",
    "print(\"\\nSample of cleaned data:\")\n",
    "print(survey[['Age_Group', 'Gender', 'Familiarity_with_SYNLAB', 'SYNLAB_Rating_1_5']].head())"
   ]
  },
  {
   "cell_type": "code",
   "execution_count": 31,
   "id": "a8f0b5ec",
   "metadata": {},
   "outputs": [
    {
     "name": "stdout",
     "output_type": "stream",
     "text": [
      "Current size: 375, Need to add: 125 records\n",
      "Augmented dataset size: 500\n"
     ]
    }
   ],
   "source": [
    "from sklearn.utils import resample\n",
    "\n",
    "# Assuming your current data is in 'data' variable with 375 rows\n",
    "current_size = len(survey)\n",
    "target_size = 500\n",
    "additional_needed = target_size - current_size\n",
    "\n",
    "print(f\"Current size: {current_size}, Need to add: {additional_needed} records\")\n",
    "\n",
    "# Create synthetic records by sampling from existing data with slight variations\n",
    "survey_data = survey.copy()\n",
    "\n",
    "for _ in range(additional_needed):\n",
    "    # Randomly select a row to augment\n",
    "    random_idx = np.random.randint(0, current_size)\n",
    "    new_row = survey.iloc[random_idx].copy()\n",
    "    \n",
    "    # Add small random variations to numeric columns\n",
    "    numeric_cols = survey.select_dtypes(include=[np.number]).columns\n",
    "    for col in numeric_cols:\n",
    "        if col not in ['Latitude', 'Longitude']:  # Don't perturb coordinates too much\n",
    "            if survey[col].nunique() > 5:  # Only perturb continuous variables\n",
    "                noise = np.random.normal(0, 0.1)  # Small noise\n",
    "                new_row[col] = new_row[col] * (1 + noise)\n",
    "    \n",
    "    # Sometimes change categorical values slightly\n",
    "    if np.random.random() < 0.3:  # 30% chance to modify categoricals\n",
    "        cat_cols = ['Occupation', 'Area', 'First_Heard_About_SYNLAB']\n",
    "        for col in cat_cols:\n",
    "            if col in survey.columns and survey[col].nunique() > 1:\n",
    "                other_values = survey[col].unique()\n",
    "                other_values = [v for v in other_values if v != new_row[col]]\n",
    "                if other_values:\n",
    "                    new_row[col] = np.random.choice(other_values)\n",
    "    \n",
    "    survey_data = pd.concat([survey_data, pd.DataFrame([new_row])], ignore_index=True)\n",
    "\n",
    "print(f\"Augmented dataset size: {len(survey_data)}\")"
   ]
  },
  {
   "cell_type": "code",
   "execution_count": 33,
   "id": "46581629",
   "metadata": {},
   "outputs": [
    {
     "name": "stdout",
     "output_type": "stream",
     "text": [
      "=== AUGMENTED DATASET VALIDATION ===\n",
      "Final size: 500\n",
      "Duplicate rows: 8\n",
      "\n",
      "Distribution comparison:\n",
      "\n",
      "Age_Group distribution:\n",
      "Age_Group\n",
      "25-34    0.392\n",
      "35-44    0.260\n",
      "45-54    0.188\n",
      "55       0.078\n",
      "18-24    0.052\n",
      "Name: proportion, dtype: float64\n",
      "\n",
      "Gender distribution:\n",
      "Gender\n",
      "Male             0.514\n",
      "Female           0.482\n",
      "Not Disclosed    0.004\n",
      "Name: proportion, dtype: float64\n",
      "\n",
      "Occupation distribution:\n",
      "Occupation\n",
      "Self-Employed              0.314\n",
      "Corporate Professional     0.306\n",
      "Student                    0.170\n",
      "Other                      0.140\n",
      "Healthcare Professional    0.070\n",
      "Name: proportion, dtype: float64\n",
      "\n",
      "Familiarity_with_SYNLAB distribution:\n",
      "Familiarity_with_SYNLAB\n",
      "Not Familiar         0.480\n",
      "Somewhat Familiar    0.308\n",
      "Very Familiar        0.212\n",
      "Name: proportion, dtype: float64\n",
      "✅ Augmented dataset saved with 500 records!\n"
     ]
    }
   ],
   "source": [
    "print(\"=== AUGMENTED DATASET VALIDATION ===\")\n",
    "print(f\"Final size: {len(survey_data)}\")\n",
    "print(f\"Duplicate rows: {survey_data.duplicated().sum()}\")\n",
    "\n",
    "# Check distributions are maintained\n",
    "print(\"\\nDistribution comparison:\")\n",
    "for col in ['Age_Group', 'Gender', 'Occupation', 'Familiarity_with_SYNLAB']:\n",
    "    if col in survey_data.columns:\n",
    "        print(f\"\\n{col} distribution:\")\n",
    "        print(survey_data[col].value_counts(normalize=True).head())\n",
    "\n",
    "# Save augmented dataset\n",
    "survey_data.to_csv(\"SYNLAB_Surveydata_AUGMENTED_500.csv\", index=False)\n",
    "print(\"✅ Augmented dataset saved with 500 records!\")"
   ]
  },
  {
   "cell_type": "code",
   "execution_count": 34,
   "id": "fd081aa6",
   "metadata": {},
   "outputs": [
    {
     "name": "stdout",
     "output_type": "stream",
     "text": [
      "✅ Dataset fully cleaned and ready for analysis!\n"
     ]
    }
   ],
   "source": [
    "key_columns = ['Age_Group', 'Gender', 'Occupation', 'Familiarity_with_SYNLAB', \n",
    "               'SYNLAB_Rating_1_5', 'Recommendation_Score', 'Total_Labs_Heard_Of',\n",
    "               'Total_Labs_Used', 'Preferred_Lab_Reason']\n",
    "analysis_data = survey_data[key_columns].copy()\n",
    "analysis_data.to_csv(\"SYNLAB_Surveydata_ANALYSIS_READY.csv\", index=False)\n",
    "\n",
    "print(\"✅ Dataset fully cleaned and ready for analysis!\")"
   ]
  }
 ],
 "metadata": {
  "kernelspec": {
   "display_name": "Python 3",
   "language": "python",
   "name": "python3"
  },
  "language_info": {
   "codemirror_mode": {
    "name": "ipython",
    "version": 3
   },
   "file_extension": ".py",
   "mimetype": "text/x-python",
   "name": "python",
   "nbconvert_exporter": "python",
   "pygments_lexer": "ipython3",
   "version": "3.13.5"
  }
 },
 "nbformat": 4,
 "nbformat_minor": 5
}
